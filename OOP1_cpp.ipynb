{
  "nbformat": 4,
  "nbformat_minor": 0,
  "metadata": {
    "colab": {
      "provenance": [],
      "authorship_tag": "ABX9TyPBlOI0KYq6uuJ6NnPyChkI",
      "include_colab_link": true
    },
    "kernelspec": {
      "name": "python3",
      "display_name": "Python 3"
    },
    "language_info": {
      "name": "python"
    }
  },
  "cells": [
    {
      "cell_type": "markdown",
      "metadata": {
        "id": "view-in-github",
        "colab_type": "text"
      },
      "source": [
        "<a href=\"https://colab.research.google.com/github/dazzle-sah/basics_of_cpp/blob/main/OOP1_cpp.ipynb\" target=\"_parent\"><img src=\"https://colab.research.google.com/assets/colab-badge.svg\" alt=\"Open In Colab\"/></a>"
      ]
    },
    {
      "cell_type": "code",
      "execution_count": null,
      "metadata": {
        "colab": {
          "base_uri": "https://localhost:8080/"
        },
        "id": "Sc9ZxESTpmDI",
        "outputId": "6ebbf3c9-3030-4f50-e215-aaf173d8320d"
      },
      "outputs": [
        {
          "output_type": "stream",
          "name": "stdout",
          "text": [
            "Overwriting test.cpp\n"
          ]
        }
      ],
      "source": [
        "%%writefile test.cpp\n",
        "#include<iostream>\n",
        "using namespace std;\n",
        "class Student{\n",
        "  public:\n",
        "  string name;\n",
        "  int year;\n",
        "  void setSubject(string sub){\n",
        "    cout<<sub<<endl;\n",
        "  }\n",
        "  void setRoll(int no){\n",
        "    cout<<no<<endl;\n",
        "  }\n",
        "  void display(){\n",
        "    cout<<name<<endl<<year<<endl;\n",
        "  }\n",
        "\n",
        "};\n",
        "int main(){\n",
        " Student s1;\n",
        " s1.name=\"ram\";\n",
        " s1.year=2024;\n",
        " s1.setRoll(211);\n",
        " s1.setSubject(\"cse\");\n",
        " s1.display();\n",
        "}"
      ]
    }
  ]
}